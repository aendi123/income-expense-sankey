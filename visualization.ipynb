{
 "cells": [
  {
   "cell_type": "markdown",
   "metadata": {},
   "source": [
    "# Income/Expense Sankey Visualization"
   ]
  },
  {
   "cell_type": "markdown",
   "metadata": {},
   "source": [
    "## Miniconda Setup\n",
    "```\n",
    "conda env create --file environment.yml\n",
    "conda activate income-expense-sankey\n",
    "```"
   ]
  },
  {
   "cell_type": "markdown",
   "metadata": {},
   "source": [
    "## Imports"
   ]
  },
  {
   "cell_type": "code",
   "execution_count": 9,
   "metadata": {},
   "outputs": [],
   "source": [
    "import pandas as pd\n",
    "import plotly.graph_objects as go"
   ]
  },
  {
   "cell_type": "markdown",
   "metadata": {},
   "source": [
    "## CSV Import"
   ]
  },
  {
   "cell_type": "code",
   "execution_count": 12,
   "metadata": {},
   "outputs": [
    {
     "name": "stdout",
     "output_type": "stream",
     "text": [
      "            betrag         category   subcategory\n",
      "0       CHF -20.00   twint_kollegen           NaN\n",
      "1       CHF -16.00  auswaerts_essen           NaN\n",
      "2    CHF -1’612.30     versicherung  krankenkasse\n",
      "3      CHF -750.75     versicherung          auto\n",
      "4        CHF 10.00   twint_kollegen           NaN\n",
      "..             ...              ...           ...\n",
      "645   CHF 1’000.00        geschenke           NaN\n",
      "646   CHF 7’000.00        kauf_auto           NaN\n",
      "647     CHF 197.45             zins           NaN\n",
      "648     CHF 241.30             zins           NaN\n",
      "649    -CHF 376.60         freizeit        ferien\n",
      "\n",
      "[650 rows x 3 columns]\n"
     ]
    }
   ],
   "source": [
    "csv_path = '/mnt/c/Users/andrin.kessler/Nextcloud/Dokumente/Steuern/2023/transactions.csv'\n",
    "\n",
    "transaction_list = pd.read_csv(csv_path, delimiter=';')"
   ]
  },
  {
   "cell_type": "markdown",
   "metadata": {},
   "source": [
    "## Data Processing"
   ]
  },
  {
   "cell_type": "code",
   "execution_count": null,
   "metadata": {},
   "outputs": [],
   "source": []
  }
 ],
 "metadata": {
  "kernelspec": {
   "display_name": "income-expense-sankey",
   "language": "python",
   "name": "python3"
  },
  "language_info": {
   "codemirror_mode": {
    "name": "ipython",
    "version": 3
   },
   "file_extension": ".py",
   "mimetype": "text/x-python",
   "name": "python",
   "nbconvert_exporter": "python",
   "pygments_lexer": "ipython3",
   "version": "3.12.1"
  }
 },
 "nbformat": 4,
 "nbformat_minor": 2
}
