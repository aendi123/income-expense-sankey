{
 "cells": [
  {
   "cell_type": "markdown",
   "metadata": {},
   "source": [
    "# Income/Expense Sankey Visualization"
   ]
  },
  {
   "cell_type": "markdown",
   "metadata": {},
   "source": [
    "## Miniconda Setup\n",
    "```\n",
    "conda env create --file environment.yml\n",
    "conda activate income-expense-sankey\n",
    "```"
   ]
  },
  {
   "cell_type": "markdown",
   "metadata": {},
   "source": [
    "## Imports"
   ]
  },
  {
   "cell_type": "code",
   "execution_count": null,
   "metadata": {},
   "outputs": [],
   "source": [
    "import numpy as np\n",
    "import pandas as pd\n",
    "import plotly.graph_objects as go"
   ]
  },
  {
   "cell_type": "markdown",
   "metadata": {},
   "source": [
    "## CSV Import"
   ]
  },
  {
   "cell_type": "code",
   "execution_count": null,
   "metadata": {},
   "outputs": [],
   "source": [
    "csv_path = 'C:/Users/andri/Nextcloud/Dokumente/Steuern/2024/usa_transactions.csv'\n",
    "\n",
    "transactions_frame = pd.read_csv(csv_path, delimiter=';')\n",
    "\n",
    "transactions_frame['betrag'] = transactions_frame['betrag'].str.replace('CHF ', '')\n",
    "transactions_frame['betrag'] = transactions_frame['betrag'].str.replace('’', '')\n",
    "transactions_frame['betrag'] = transactions_frame['betrag'].astype(float)"
   ]
  },
  {
   "cell_type": "markdown",
   "metadata": {},
   "source": [
    "## Data Processing"
   ]
  },
  {
   "cell_type": "code",
   "execution_count": null,
   "metadata": {},
   "outputs": [],
   "source": [
    "income_transactions_frame = transactions_frame[transactions_frame['betrag'] > 0]\n",
    "expense_transactions_frame = transactions_frame[transactions_frame['betrag'] < 0]\n",
    "expense_transactions_frame.loc[:, 'betrag'] = expense_transactions_frame['betrag'].abs()\n",
    "\n",
    "source_arr = []\n",
    "target_arr = []\n",
    "value_arr = []\n",
    "label_arr = []\n",
    "\n",
    "income_categories = income_transactions_frame['category'].unique()\n",
    "expense_categories = expense_transactions_frame['category'].unique()\n",
    "expense_subcategories = expense_transactions_frame['subcategory'].unique()\n",
    "label_arr = np.concatenate(([\"total_income\", \"total_expense\"], income_categories, expense_categories, expense_subcategories))\n",
    "\n",
    "source_arr.append(0)\n",
    "target_arr.append(1)\n",
    "value_arr.append(expense_transactions_frame['betrag'].sum())\n",
    "\n",
    "for i in range(2, len(income_categories)+2):\n",
    "    source_arr.append(i)\n",
    "    target_arr.append(0)\n",
    "for income_category in income_categories:\n",
    "    value_arr.append(income_transactions_frame[income_transactions_frame['category'] == income_category]['betrag'].sum())\n",
    "\n",
    "for i in range(len(income_categories)+2, len(income_categories)+len(expense_categories)+2):\n",
    "    source_arr.append(1)\n",
    "    target_arr.append(i)\n",
    "for expense_category in expense_categories:\n",
    "    value_arr.append(expense_transactions_frame[expense_transactions_frame['category'] == expense_category]['betrag'].sum())\n",
    "\n",
    "for expense_category in expense_categories:\n",
    "    for expense_subcategory in expense_subcategories:\n",
    "        subcategory_sum = expense_transactions_frame[(expense_transactions_frame['category'] == expense_category) & (expense_transactions_frame['subcategory'] == expense_subcategory)]['betrag'].sum()\n",
    "        if subcategory_sum > 0:\n",
    "            source_arr.append(np.where(label_arr == expense_category)[0][0])\n",
    "            target_arr.append(np.where(label_arr == expense_subcategory)[0][-1])\n",
    "            value_arr.append(subcategory_sum)"
   ]
  },
  {
   "cell_type": "markdown",
   "metadata": {},
   "source": [
    "## Data Visualization"
   ]
  },
  {
   "cell_type": "code",
   "execution_count": null,
   "metadata": {},
   "outputs": [],
   "source": [
    "fig = go.Figure(data=[go.Sankey(\n",
    "    node = dict(\n",
    "      pad = 3,\n",
    "      label = label_arr,\n",
    "    ),\n",
    "    link = dict(\n",
    "      source = source_arr,\n",
    "      target = target_arr,\n",
    "      value = value_arr\n",
    "  ))])\n",
    "\n",
    "fig.update_layout(title_text=\"Income/Expense Sankey Diagram\", font_size=10)\n",
    "fig.show()"
   ]
  }
 ],
 "metadata": {
  "kernelspec": {
   "display_name": "income-expense-sankey",
   "language": "python",
   "name": "python3"
  },
  "language_info": {
   "codemirror_mode": {
    "name": "ipython",
    "version": 3
   },
   "file_extension": ".py",
   "mimetype": "text/x-python",
   "name": "python",
   "nbconvert_exporter": "python",
   "pygments_lexer": "ipython3",
   "version": "3.13.2"
  }
 },
 "nbformat": 4,
 "nbformat_minor": 2
}
